{
 "cells": [
  {
   "cell_type": "code",
   "execution_count": null,
   "id": "92538e9d",
   "metadata": {},
   "outputs": [],
   "source": [
    "# tai, haley, & neil - this is the page where you will implement the data scraping\n",
    "# make sure that you define it as a function - for now, we won't pass any parameters to the function,\n",
    "# but we can later on for more customization"
   ]
  }
 ],
 "metadata": {
  "kernelspec": {
   "display_name": "Python 3",
   "language": "python",
   "name": "python3"
  },
  "language_info": {
   "codemirror_mode": {
    "name": "ipython",
    "version": 3
   },
   "file_extension": ".py",
   "mimetype": "text/x-python",
   "name": "python",
   "nbconvert_exporter": "python",
   "pygments_lexer": "ipython3",
   "version": "3.8.8"
  }
 },
 "nbformat": 4,
 "nbformat_minor": 5
}

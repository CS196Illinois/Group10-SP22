{
 "cells": [
  {
   "cell_type": "code",
   "execution_count": 1,
   "id": "a6436b4f",
   "metadata": {},
   "outputs": [],
   "source": [
    "#function\n",
    "def base10To2(val):\n",
    "    dictionary = {}\n",
    "    b10Dict = val\n",
    "    listUnordered = []\n",
    "    while val > 0:\n",
    "        b2Val = val % 2\n",
    "        listUnordered.append(b2Val)\n",
    "        val = val // 2\n",
    "    listOrdered = []\n",
    "    for i in reversed(listUnordered):\n",
    "        listOrdered.append(i)\n",
    "    dictionary.update({b10Dict: listOrdered})\n",
    "    return listOrdered"
   ]
  },
  {
   "cell_type": "code",
   "execution_count": 2,
   "id": "0cf46658",
   "metadata": {},
   "outputs": [
    {
     "name": "stdout",
     "output_type": "stream",
     "text": [
      "Enter a number: 12\n",
      "[1, 1, 0, 0]\n"
     ]
    }
   ],
   "source": [
    "#driver\n",
    "num = input(\"Enter a number: \")\n",
    "print(base10To2(int(num)))"
   ]
  }
 ],
 "metadata": {
  "kernelspec": {
   "display_name": "Python 3 (ipykernel)",
   "language": "python",
   "name": "python3"
  },
  "language_info": {
   "codemirror_mode": {
    "name": "ipython",
    "version": 3
   },
   "file_extension": ".py",
   "mimetype": "text/x-python",
   "name": "python",
   "nbconvert_exporter": "python",
   "pygments_lexer": "ipython3",
   "version": "3.10.2"
  }
 },
 "nbformat": 4,
 "nbformat_minor": 5
}

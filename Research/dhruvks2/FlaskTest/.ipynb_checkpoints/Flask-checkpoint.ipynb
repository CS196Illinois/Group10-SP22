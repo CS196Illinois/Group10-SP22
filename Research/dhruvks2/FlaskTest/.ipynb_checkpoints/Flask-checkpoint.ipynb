{
 "cells": [
  {
   "cell_type": "code",
   "execution_count": 26,
   "id": "2a4e2efb",
   "metadata": {},
   "outputs": [],
   "source": [
    "from bs4 import BeautifulSoup\n",
    "import requests\n",
    "def scrape(course_url):\n",
    "    course_page = requests.get(course_url)\n",
    "    course_soup = BeautifulSoup(course_page.content, \"html.parser\")\n",
    "\n",
    "    for row in course_soup.findAll('script')[4]:\n",
    "        soup = BeautifulSoup(row, 'lxml')\n",
    "\n",
    "    str_soup = soup.get_text()\n",
    "\n",
    "    final_str = str_soup[22:len(str_soup)-94]\n",
    "\n",
    "    final_str[final_str.find('crn\":\"') + 6: final_str.find('crn\":\"') + 11]\n",
    "    \n",
    "    return_string = \"\"\n",
    "    \n",
    "    course_dict = {}\n",
    "    partial_str_crn = str_soup\n",
    "    for row in course_soup.findAll('script')[4]:\n",
    "        while ('crn' in partial_str_crn):\n",
    "            temp = []\n",
    "            partial_str_crn = partial_str_crn[partial_str_crn.find('crn\":\"') + 6:]\n",
    "            partial_str_time = partial_str_crn[partial_str_crn.find('time\":\"') + 11:]\n",
    "            partial_str_day = partial_str_crn[partial_str_crn.find('day\":\"') + 6:]\n",
    "            partial_str_loc = partial_str_crn[partial_str_crn.find('location\":\"') + 11:]\n",
    "            temp.append(partial_str_loc[:partial_str_loc.find('\"')])\n",
    "            temp.append(partial_str_time[:partial_str_time.find('\"')])\n",
    "            temp.append(partial_str_day[:partial_str_day.find('\"')].strip())\n",
    "            course_dict[partial_str_crn[:partial_str_crn.find('\"')]] = temp\n",
    "            #print(str(partial_str_crn[:partial_str_crn.find('\"')]) + \" : \" + str(temp))\n",
    "            return_string += str(partial_str_crn[:partial_str_crn.find('\"')]) + \" : \" + str(temp) + '\\n'\n",
    "\n",
    "    return return_string"
   ]
  },
  {
   "cell_type": "code",
   "execution_count": null,
   "id": "6b2a81b5",
   "metadata": {},
   "outputs": [
    {
     "name": "stderr",
     "output_type": "stream",
     "text": [
      " * Running on http://localhost:8080/ (Press CTRL+C to quit)\n",
      "127.0.0.1 - - [29/Mar/2022 18:55:14] \"\u001b[37mGET / HTTP/1.1\u001b[0m\" 200 -\n",
      "127.0.0.1 - - [29/Mar/2022 18:55:20] \"\u001b[32mPOST / HTTP/1.1\u001b[0m\" 302 -\n",
      "127.0.0.1 - - [29/Mar/2022 18:55:20] \"\u001b[37mGET /output/69781%20:%20%5B%27329%20Gregory%20Hall%27%2C%20%2709:00AM%20-%2010:20AM%27%2C%20%27TR%27%5D%0A30107%20:%20%5B%27242%20Bevier%20Hall%27%2C%20%2709:00AM%20-%2009:50AM%27%2C%20%27F%27%5D%0A41729%20:%20%5B%27242%20Bevier%20Hall%27%2C%20%2710:00AM%20-%2010:50AM%27%2C%20%27F%27%5D%0A43832%20:%20%5B%27113%20Gregory%20Hall%27%2C%20%2711:00AM%20-%2011:50AM%27%2C%20%27F%27%5D%0A48232%20:%20%5B%27113%20Gregory%20Hall%27%2C%20%2712:00PM%20-%2012:50PM%27%2C%20%27F%27%5D%0A48234%20:%20%5B%27n.a.%27%2C%20%2701:00PM%20-%2001:50PM%27%2C%20%27F%27%5D%0A50105%20:%20%5B%27n.a.%27%2C%20%2702:00PM%20-%2002:50PM%27%2C%20%27F%27%5D%0A54572%20:%20%5B%27212%20Davenport%20Hall%27%2C%20%2710:00AM%20-%2010:50AM%27%2C%20%27F%27%5D%0A51886%20:%20%5B%27212%20Davenport%20Hall%27%2C%20%2711:00AM%20-%2011:50AM%27%2C%20%27F%27%5D%0A70761%20:%20%5B%27329%20Davenport%20Hall%27%2C%20%2701:00PM%20-%2001:50PM%27%2C%20%27F%27%5D%0A70762%20:%20%5B%27329%20Davenport%20Hall%27%2C%20%2702:00PM%20-%2002:50PM%27%2C%20%27F%27%5D%0A30106%20:%20%5B%27n.a.%27%2C%20%2711:00AM%20-%2011:50AM%27%2C%20%27MW%27%5D%0A HTTP/1.1\u001b[0m\" 200 -\n"
     ]
    },
    {
     "name": "stdout",
     "output_type": "stream",
     "text": [
      "69781 : ['329 Gregory Hall', '09:00AM - 10:20AM', 'TR']\n",
      "30107 : ['242 Bevier Hall', '09:00AM - 09:50AM', 'F']\n",
      "41729 : ['242 Bevier Hall', '10:00AM - 10:50AM', 'F']\n",
      "43832 : ['113 Gregory Hall', '11:00AM - 11:50AM', 'F']\n",
      "48232 : ['113 Gregory Hall', '12:00PM - 12:50PM', 'F']\n",
      "48234 : ['n.a.', '01:00PM - 01:50PM', 'F']\n",
      "50105 : ['n.a.', '02:00PM - 02:50PM', 'F']\n",
      "54572 : ['212 Davenport Hall', '10:00AM - 10:50AM', 'F']\n",
      "51886 : ['212 Davenport Hall', '11:00AM - 11:50AM', 'F']\n",
      "70761 : ['329 Davenport Hall', '01:00PM - 01:50PM', 'F']\n",
      "70762 : ['329 Davenport Hall', '02:00PM - 02:50PM', 'F']\n",
      "30106 : ['n.a.', '11:00AM - 11:50AM', 'MW']\n",
      "\n"
     ]
    }
   ],
   "source": [
    "from werkzeug.wrappers import Request, Response\n",
    "from flask import Flask, render_template, request, url_for, flash, redirect\n",
    "from flask_table import Table, Col\n",
    "\n",
    "app = Flask(__name__)\n",
    "app.config['SECRET_KEY'] = 'superdupersecretkeythatnobodywouldeverguess'\n",
    "\n",
    "@app.route(\"/\", methods=('GET', 'POST'))\n",
    "def index():\n",
    "    if request.method == 'POST':\n",
    "        user_input = str(request.form['url'])\n",
    "        return_string = scrape(user_input)\n",
    "        print(return_string)\n",
    "        return redirect(url_for('output', output_string = return_string))\n",
    "    return render_template('index.html')\n",
    "\n",
    "@app.route(\"/output/<output_string>\")\n",
    "def output(output_string):\n",
    "    return render_template('output.html', output_string=output_string)\n",
    "\n",
    "# Code taken from: https://stackoverflow.com/questions/41831929/debug-flask-server-inside-jupyter-notebook\n",
    "if __name__ == '__main__':\n",
    "    from werkzeug.serving import run_simple\n",
    "    run_simple('localhost', 8080, app)"
   ]
  },
  {
   "cell_type": "code",
   "execution_count": null,
   "id": "96830717",
   "metadata": {},
   "outputs": [],
   "source": []
  }
 ],
 "metadata": {
  "kernelspec": {
   "display_name": "Python 3",
   "language": "python",
   "name": "python3"
  },
  "language_info": {
   "codemirror_mode": {
    "name": "ipython",
    "version": 3
   },
   "file_extension": ".py",
   "mimetype": "text/x-python",
   "name": "python",
   "nbconvert_exporter": "python",
   "pygments_lexer": "ipython3",
   "version": "3.8.8"
  }
 },
 "nbformat": 4,
 "nbformat_minor": 5
}

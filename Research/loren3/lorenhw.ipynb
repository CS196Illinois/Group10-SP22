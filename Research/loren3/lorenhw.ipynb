{
 "cells": [
  {
   "cell_type": "code",
   "execution_count": 3,
   "id": "8dbacc74",
   "metadata": {},
   "outputs": [],
   "source": [
    "def b10tob2(num):\n",
    "    l = []\n",
    "    l2 = []\n",
    "    while num > 0:\n",
    "        bival = int(num % 2)\n",
    "        l.append(bival)\n",
    "        num = int(num / 2)\n",
    "    for i in range(len(l) - 1,-1,-1):\n",
    "        l2.append(l[i])   \n",
    "    return l2"
   ]
  },
  {
   "cell_type": "code",
   "execution_count": 4,
   "id": "c772044d",
   "metadata": {},
   "outputs": [
    {
     "name": "stdout",
     "output_type": "stream",
     "text": [
      "Please give me a small positive integer12\n",
      "{12: [1, 1, 0, 0]}\n"
     ]
    }
   ],
   "source": [
    "inp = int(input(\"Please give me a small positive integer\"))\n",
    "dic = {inp: b10tob2(inp)}\n",
    "print(dic)"
   ]
  },
  {
   "cell_type": "code",
   "execution_count": null,
   "id": "111dd017",
   "metadata": {},
   "outputs": [],
   "source": []
  }
 ],
 "metadata": {
  "kernelspec": {
   "display_name": "Python 3 (ipykernel)",
   "language": "python",
   "name": "python3"
  },
  "language_info": {
   "codemirror_mode": {
    "name": "ipython",
    "version": 3
   },
   "file_extension": ".py",
   "mimetype": "text/x-python",
   "name": "python",
   "nbconvert_exporter": "python",
   "pygments_lexer": "ipython3",
   "version": "3.8.10"
  }
 },
 "nbformat": 4,
 "nbformat_minor": 5
}

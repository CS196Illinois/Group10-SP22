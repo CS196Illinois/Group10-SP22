{
 "cells": [
  {
   "cell_type": "code",
   "execution_count": 4,
   "id": "650b8e8e",
   "metadata": {
    "scrolled": true
   },
   "outputs": [
    {
     "ename": "SyntaxError",
     "evalue": "invalid syntax (3353571307.py, line 2)",
     "output_type": "error",
     "traceback": [
      "\u001b[0;36m  Input \u001b[0;32mIn [4]\u001b[0;36m\u001b[0m\n\u001b[0;31m    def base10tobase2(first)\u001b[0m\n\u001b[0m                            ^\u001b[0m\n\u001b[0;31mSyntaxError\u001b[0m\u001b[0;31m:\u001b[0m invalid syntax\n"
     ]
    }
   ],
   "source": [
<<<<<<< HEAD
    "# function piece\n",
    "def base10tobase2(first)\n",
    "    beforeBinary = []\n",
    "    afterBinary = []\n",
    "    while first >= 0 : \n",
    "        first2 = first % 2\n",
    "        beforeBinary.append(first2)\n",
    "        first = first / / 2\n",
    "        \n",
    "    for x in reveresed(beforeBinary):\n",
    "        afterBinary.append(x) \n",
    "    return afterBinary"
=======
    "#print(\"hi, world!\")"
>>>>>>> 40b61548eb3aaebe16a339f217270c888fb454ee
   ]
  },
  {
   "cell_type": "code",
   "execution_count": 5,
   "id": "f59b7585",
   "metadata": {},
   "outputs": [
    {
     "ename": "SyntaxError",
     "evalue": "unexpected EOF while parsing (1345818311.py, line 3)",
     "output_type": "error",
     "traceback": [
      "\u001b[0;36m  Input \u001b[0;32mIn [5]\u001b[0;36m\u001b[0m\n\u001b[0;31m    print(base10tobase2(int(num))\u001b[0m\n\u001b[0m                                 ^\u001b[0m\n\u001b[0;31mSyntaxError\u001b[0m\u001b[0;31m:\u001b[0m unexpected EOF while parsing\n"
     ]
    }
   ],
   "source": [
<<<<<<< HEAD
    "# driver piece\n",
    "num = first(\"Pos integer please: \")\n",
    "print(base10tobase2(int(num))"
=======
    "x = int(5)\n",
    "#print(x)\n",
    "\n",
    "if x >= 5 :\n",
    "    print(\"hello\")\n",
    "elif x > 0:\n",
    "    print(\"no\")\n",
    "else :\n",
    "    print(\"ok\")"
>>>>>>> 40b61548eb3aaebe16a339f217270c888fb454ee
   ]
  }
 ],
 "metadata": {
  "kernelspec": {
   "display_name": "Python 3",
   "language": "python",
   "name": "python3"
  },
  "language_info": {
   "codemirror_mode": {
    "name": "ipython",
    "version": 3
   },
   "file_extension": ".py",
   "mimetype": "text/x-python",
   "name": "python",
   "nbconvert_exporter": "python",
   "pygments_lexer": "ipython3",
   "version": "3.8.8"
  }
 },
 "nbformat": 4,
 "nbformat_minor": 5
}

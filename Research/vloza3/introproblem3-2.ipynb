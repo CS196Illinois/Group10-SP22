{
 "cells": [
  {
   "cell_type": "code",
   "execution_count": null,
   "id": "650b8e8e",
   "metadata": {
    "scrolled": true
   },
   "outputs": [],
   "source": [
    "# function piece\n",
    "def base10tobase2(first)\n",
    "    beforeBinary = []\n",
    "    afterBinary = []\n",
    "    while first > 0 : \n",
    "        first2 = first % 2\n",
    "        beforeBinary.append(first2)\n",
    "        first = first / / 2\n",
    "        \n",
    "    for x in reveresed(beforeBinary):\n",
    "        afterBinary.append(x) \n",
    "    return afterBinary"
   ]
  },
  {
   "cell_type": "code",
   "execution_count": null,
   "id": "f59b7585",
   "metadata": {},
   "outputs": [],
   "source": [
    "# driver piece\n",
    "num = first(\"Pos integer pls: \")\n",
    "print(base10tobase2(int(num))"
   ]
  },
  {
   "cell_type": "code",
   "execution_count": null,
   "id": "fd3ae76d",
   "metadata": {},
   "outputs": [],
   "source": []
  }
 ],
 "metadata": {
  "kernelspec": {
   "display_name": "Python 3 (ipykernel)",
   "language": "python",
   "name": "python3"
  },
  "language_info": {
   "codemirror_mode": {
    "name": "ipython",
    "version": 3
   },
   "file_extension": ".py",
   "mimetype": "text/x-python",
   "name": "python",
   "nbconvert_exporter": "python",
   "pygments_lexer": "ipython3",
   "version": "3.8.2"
  }
 },
 "nbformat": 4,
 "nbformat_minor": 5
}

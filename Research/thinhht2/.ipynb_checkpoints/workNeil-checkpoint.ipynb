{
 "cells": [
  {
   "cell_type": "code",
   "execution_count": 6,
   "id": "3898b7a3",
   "metadata": {},
   "outputs": [],
   "source": [
    "def toBinary(input):\n",
    "    binary = []\n",
    "    revBinary = []\n",
    "    while input > 0:\n",
    "        j = input % 2\n",
    "        binary.append(j)\n",
    "        input = int(input / 2)\n",
    "    for num in reversed(binary):\n",
    "        revBinary.append(num)\n",
    "    thisdict = {\n",
    "        input: revBinary\n",
    "    }\n",
    "    return revBinary"
   ]
  },
  {
   "cell_type": "code",
   "execution_count": 7,
   "id": "07e63d9a",
   "metadata": {},
   "outputs": [
    {
     "name": "stdout",
     "output_type": "stream",
     "text": [
      "Enter a positive integer: 10\n",
      "[1, 0, 1, 0]\n"
     ]
    }
   ],
   "source": [
    "x =  int(input(\"Enter a positive integer: \"))\n",
    "print(toBinary(x))"
   ]
  }
 ],
 "metadata": {
  "kernelspec": {
   "display_name": "Python 3 (ipykernel)",
   "language": "python",
   "name": "python3"
  },
  "language_info": {
   "codemirror_mode": {
    "name": "ipython",
    "version": 3
   },
   "file_extension": ".py",
   "mimetype": "text/x-python",
   "name": "python",
   "nbconvert_exporter": "python",
   "pygments_lexer": "ipython3",
   "version": "3.10.2"
  }
 },
 "nbformat": 4,
 "nbformat_minor": 5
}
